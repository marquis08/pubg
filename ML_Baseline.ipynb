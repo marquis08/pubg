{
 "cells": [
  {
   "cell_type": "markdown",
   "metadata": {},
   "source": [
    "## **Summary from outlier**\n",
    "\n",
    "1. headshotrate > 0.5\n",
    "2. damagedealt >= 4000\n",
    "3. kills > 60\n",
    "4. killstreak > 10\n",
    "5. walkdistance > 7.5k\n",
    "6. weaponacquired > 20\n",
    "7. heals > 40\n",
    "8. boosts > 20\n",
    "9. totaldistance == 0 & kills > 0\n",
    "10. walkdistance == 0 & kills > 0\n",
    "11. ridedistance == 0 & roadkills > 0\n",
    "12. weaponacquired == 0 & winplaceperc > 0.5\n",
    "13. heals == 0 & winplaceperc > 0.8\n",
    "14. heals and boosts == 0 & winplaceperc > 0.8\n",
    "15. one NaN in target value"
   ]
  },
  {
   "cell_type": "code",
   "execution_count": 1,
   "metadata": {},
   "outputs": [],
   "source": [
    "import os, time, gc\n",
    "import pandas as pd, numpy as np\n",
    "from tqdm import tqdm\n",
    "import matplotlib.pyplot as plt\n",
    "import seaborn as sns"
   ]
  },
  {
   "cell_type": "code",
   "execution_count": 2,
   "metadata": {},
   "outputs": [
    {
     "data": {
      "text/plain": [
       "['sample_submission_V2.csv', 'test_V2.csv', 'train_V2.csv']"
      ]
     },
     "execution_count": 2,
     "metadata": {},
     "output_type": "execute_result"
    }
   ],
   "source": [
    "os.listdir('input')"
   ]
  },
  {
   "cell_type": "code",
   "execution_count": 3,
   "metadata": {},
   "outputs": [
    {
     "name": "stdout",
     "output_type": "stream",
     "text": [
      "Wall time: 11.9 s\n"
     ]
    }
   ],
   "source": [
    "%%time\n",
    "tr = pd.read_csv(\"input/train_V2.csv\")\n",
    "te = pd.read_csv(\"input/test_V2.csv\")"
   ]
  },
  {
   "cell_type": "code",
   "execution_count": 4,
   "metadata": {},
   "outputs": [],
   "source": [
    "def missing_values_table(df):# Function to calculate missing values by column# Funct \n",
    "    mis_val = df.isnull().sum() # Total missing values\n",
    "    mis_val_pct = 100 * df.isnull().sum() / len(df)# Percentage of missing values\n",
    "    mis_val_df = pd.concat([mis_val, mis_val_pct], axis=1)# Make a table with the results\n",
    "    mis_val_df_cols = mis_val_df.rename(columns = {0 : 'Missing Values', 1 : '% of Total Values'})# Rename the columns\n",
    "    mis_val_df_cols = mis_val_df_cols[mis_val_df_cols.iloc[:,1] != 0].sort_values('% of Total Values', ascending=False).round(1)# Sort the table by percentage of missing descending\n",
    "    print (\"Dataframe has \" + str(df.shape[1]) + \" columns.\\n\" \n",
    "           \"There are \" + str(mis_val_df_cols.shape[0]) + \" cols having missing values.\")# Print some summary information\n",
    "    return mis_val_df_cols # Return the dataframe with missing information"
   ]
  },
  {
   "cell_type": "code",
   "execution_count": 5,
   "metadata": {},
   "outputs": [
    {
     "name": "stdout",
     "output_type": "stream",
     "text": [
      "Dataframe has 29 columns.\n",
      "There are 1 cols having missing values.\n"
     ]
    },
    {
     "data": {
      "text/html": [
       "<div>\n",
       "<style scoped>\n",
       "    .dataframe tbody tr th:only-of-type {\n",
       "        vertical-align: middle;\n",
       "    }\n",
       "\n",
       "    .dataframe tbody tr th {\n",
       "        vertical-align: top;\n",
       "    }\n",
       "\n",
       "    .dataframe thead th {\n",
       "        text-align: right;\n",
       "    }\n",
       "</style>\n",
       "<table border=\"1\" class=\"dataframe\">\n",
       "  <thead>\n",
       "    <tr style=\"text-align: right;\">\n",
       "      <th></th>\n",
       "      <th>Missing Values</th>\n",
       "      <th>% of Total Values</th>\n",
       "    </tr>\n",
       "  </thead>\n",
       "  <tbody>\n",
       "    <tr>\n",
       "      <th>winPlacePerc</th>\n",
       "      <td>1</td>\n",
       "      <td>0.0</td>\n",
       "    </tr>\n",
       "  </tbody>\n",
       "</table>\n",
       "</div>"
      ],
      "text/plain": [
       "              Missing Values  % of Total Values\n",
       "winPlacePerc               1                0.0"
      ]
     },
     "execution_count": 5,
     "metadata": {},
     "output_type": "execute_result"
    }
   ],
   "source": [
    "missing_values_table(tr)"
   ]
  },
  {
   "cell_type": "code",
   "execution_count": 6,
   "metadata": {},
   "outputs": [
    {
     "name": "stdout",
     "output_type": "stream",
     "text": [
      "Dataframe has 28 columns.\n",
      "There are 0 cols having missing values.\n"
     ]
    },
    {
     "data": {
      "text/html": [
       "<div>\n",
       "<style scoped>\n",
       "    .dataframe tbody tr th:only-of-type {\n",
       "        vertical-align: middle;\n",
       "    }\n",
       "\n",
       "    .dataframe tbody tr th {\n",
       "        vertical-align: top;\n",
       "    }\n",
       "\n",
       "    .dataframe thead th {\n",
       "        text-align: right;\n",
       "    }\n",
       "</style>\n",
       "<table border=\"1\" class=\"dataframe\">\n",
       "  <thead>\n",
       "    <tr style=\"text-align: right;\">\n",
       "      <th></th>\n",
       "      <th>Missing Values</th>\n",
       "      <th>% of Total Values</th>\n",
       "    </tr>\n",
       "  </thead>\n",
       "  <tbody>\n",
       "  </tbody>\n",
       "</table>\n",
       "</div>"
      ],
      "text/plain": [
       "Empty DataFrame\n",
       "Columns: [Missing Values, % of Total Values]\n",
       "Index: []"
      ]
     },
     "execution_count": 6,
     "metadata": {},
     "output_type": "execute_result"
    }
   ],
   "source": [
    "missing_values_table(te)"
   ]
  },
  {
   "cell_type": "code",
   "execution_count": 7,
   "metadata": {},
   "outputs": [
    {
     "data": {
      "text/html": [
       "<div>\n",
       "<style scoped>\n",
       "    .dataframe tbody tr th:only-of-type {\n",
       "        vertical-align: middle;\n",
       "    }\n",
       "\n",
       "    .dataframe tbody tr th {\n",
       "        vertical-align: top;\n",
       "    }\n",
       "\n",
       "    .dataframe thead th {\n",
       "        text-align: right;\n",
       "    }\n",
       "</style>\n",
       "<table border=\"1\" class=\"dataframe\">\n",
       "  <thead>\n",
       "    <tr style=\"text-align: right;\">\n",
       "      <th></th>\n",
       "      <th>Id</th>\n",
       "      <th>groupId</th>\n",
       "      <th>matchId</th>\n",
       "      <th>assists</th>\n",
       "      <th>boosts</th>\n",
       "      <th>damageDealt</th>\n",
       "      <th>DBNOs</th>\n",
       "      <th>headshotKills</th>\n",
       "      <th>heals</th>\n",
       "      <th>killPlace</th>\n",
       "      <th>...</th>\n",
       "      <th>revives</th>\n",
       "      <th>rideDistance</th>\n",
       "      <th>roadKills</th>\n",
       "      <th>swimDistance</th>\n",
       "      <th>teamKills</th>\n",
       "      <th>vehicleDestroys</th>\n",
       "      <th>walkDistance</th>\n",
       "      <th>weaponsAcquired</th>\n",
       "      <th>winPoints</th>\n",
       "      <th>winPlacePerc</th>\n",
       "    </tr>\n",
       "  </thead>\n",
       "  <tbody>\n",
       "    <tr>\n",
       "      <th>2744604</th>\n",
       "      <td>f70c74418bb064</td>\n",
       "      <td>12dfbede33f92b</td>\n",
       "      <td>224a123c53e008</td>\n",
       "      <td>0</td>\n",
       "      <td>0</td>\n",
       "      <td>0.0</td>\n",
       "      <td>0</td>\n",
       "      <td>0</td>\n",
       "      <td>0</td>\n",
       "      <td>1</td>\n",
       "      <td>...</td>\n",
       "      <td>0</td>\n",
       "      <td>0.0</td>\n",
       "      <td>0</td>\n",
       "      <td>0.0</td>\n",
       "      <td>0</td>\n",
       "      <td>0</td>\n",
       "      <td>0.0</td>\n",
       "      <td>0</td>\n",
       "      <td>0</td>\n",
       "      <td>NaN</td>\n",
       "    </tr>\n",
       "  </tbody>\n",
       "</table>\n",
       "<p>1 rows × 29 columns</p>\n",
       "</div>"
      ],
      "text/plain": [
       "                     Id         groupId         matchId  assists  boosts  \\\n",
       "2744604  f70c74418bb064  12dfbede33f92b  224a123c53e008        0       0   \n",
       "\n",
       "         damageDealt  DBNOs  headshotKills  heals  killPlace  ...  revives  \\\n",
       "2744604          0.0      0              0      0          1  ...        0   \n",
       "\n",
       "         rideDistance  roadKills  swimDistance  teamKills vehicleDestroys  \\\n",
       "2744604           0.0          0           0.0          0               0   \n",
       "\n",
       "         walkDistance  weaponsAcquired  winPoints  winPlacePerc  \n",
       "2744604           0.0                0          0           NaN  \n",
       "\n",
       "[1 rows x 29 columns]"
      ]
     },
     "execution_count": 7,
     "metadata": {},
     "output_type": "execute_result"
    }
   ],
   "source": [
    "tr[tr['winPlacePerc'].isnull()]"
   ]
  },
  {
   "cell_type": "code",
   "execution_count": 8,
   "metadata": {},
   "outputs": [],
   "source": [
    "tr.drop(2744604, inplace=True)"
   ]
  },
  {
   "cell_type": "code",
   "execution_count": 9,
   "metadata": {},
   "outputs": [],
   "source": [
    "def base(df):\n",
    "    df['headshot_rate'] = df['headshotKills']/df['kills']\n",
    "    df['total_distance'] = df[df.filter(regex='Dist').columns.tolist()].sum(axis=1)\n",
    "    df['heals_n_boosts'] = df[['heals','boosts']].sum(axis=1)\n",
    "    return df"
   ]
  },
  {
   "cell_type": "code",
   "execution_count": 10,
   "metadata": {},
   "outputs": [],
   "source": [
    "tr = base(tr)\n",
    "te = base(te)"
   ]
  },
  {
   "cell_type": "code",
   "execution_count": 11,
   "metadata": {},
   "outputs": [],
   "source": [
    "tr['is_outlier'] = np.where(tr['headshot_rate']> 0.5, 1, 0)\n",
    "tr['is_outlier'] = np.where(tr['damageDealt']>=4000, 1, 0)\n",
    "tr['is_outlier'] = np.where(tr['kills']> 60, 1, 0)\n",
    "tr['is_outlier'] = np.where(tr['killStreaks']> 10, 1, 0)\n",
    "tr['is_outlier'] = np.where(tr['walkDistance']> 7500, 1, 0)\n",
    "tr['is_outlier'] = np.where(tr['weaponsAcquired']> 20, 1, 0)\n",
    "tr['is_outlier'] = np.where(tr['heals']> 40, 1, 0)\n",
    "tr['is_outlier'] = np.where(tr['boosts']> 20, 1, 0)\n",
    "tr['is_outlier'] = np.where((tr['total_distance']==0)&(tr['kills']!=0), 1, 0)\n",
    "tr['is_outlier'] = np.where((tr['walkDistance']==0)&(tr['kills']!=0), 1, 0)\n",
    "tr['is_outlier'] = np.where((tr['rideDistance']==0)&(tr['roadKills']!=0), 1, 0)\n",
    "tr['is_outlier'] = np.where((tr['weaponsAcquired']==0)&(tr['winPlacePerc']>0.5), 1, 0)\n",
    "tr['is_outlier'] = np.where((tr['heals']==0)&(tr['winPlacePerc']>0.8), 1, 0)\n",
    "tr['is_outlier'] = np.where((tr['heals_n_boosts']==0)&(tr['winPlacePerc']>0.8), 1, 0)"
   ]
  },
  {
   "cell_type": "code",
   "execution_count": 12,
   "metadata": {},
   "outputs": [
    {
     "name": "stdout",
     "output_type": "stream",
     "text": [
      "The total number of outliers\n",
      "n = 81343\n",
      "% = 0.01829180126220917\n"
     ]
    }
   ],
   "source": [
    "print(\"The total number of outliers\")\n",
    "print(\"n = {}\".format(tr['is_outlier'].sum()))\n",
    "print(\"% = {}\".format(tr['is_outlier'].sum()/tr.shape[0]))"
   ]
  },
  {
   "cell_type": "markdown",
   "metadata": {},
   "source": [
    "# Build Model"
   ]
  },
  {
   "cell_type": "markdown",
   "metadata": {},
   "source": [
    "**Train model w/o outliers**"
   ]
  },
  {
   "cell_type": "code",
   "execution_count": 13,
   "metadata": {},
   "outputs": [
    {
     "name": "stdout",
     "output_type": "stream",
     "text": [
      "(4446965, 33)\n",
      "(4365622, 33)\n"
     ]
    }
   ],
   "source": [
    "print(tr.shape)\n",
    "tr = tr[tr['is_outlier']==0]\n",
    "print(tr.shape)"
   ]
  },
  {
   "cell_type": "code",
   "execution_count": 14,
   "metadata": {},
   "outputs": [],
   "source": [
    "# exclude target and outlier columns\n",
    "base_feat = tr.columns[3:-6].tolist()+tr.columns[29:-1].tolist()\n",
    "train_Y = tr['winPlacePerc']"
   ]
  },
  {
   "cell_type": "markdown",
   "metadata": {},
   "source": [
    "Make object type to category for lightgbm model to take."
   ]
  },
  {
   "cell_type": "code",
   "execution_count": 15,
   "metadata": {},
   "outputs": [
    {
     "data": {
      "text/plain": [
       "int64      19\n",
       "float64     7\n",
       "object      1\n",
       "dtype: int64"
      ]
     },
     "execution_count": 15,
     "metadata": {},
     "output_type": "execute_result"
    }
   ],
   "source": [
    "tr[base_feat].dtypes.value_counts()"
   ]
  },
  {
   "cell_type": "code",
   "execution_count": 16,
   "metadata": {},
   "outputs": [
    {
     "data": {
      "text/plain": [
       "Index(['matchType'], dtype='object')"
      ]
     },
     "execution_count": 16,
     "metadata": {},
     "output_type": "execute_result"
    }
   ],
   "source": [
    "tr[base_feat].select_dtypes(include=['object']).columns"
   ]
  },
  {
   "cell_type": "code",
   "execution_count": 17,
   "metadata": {},
   "outputs": [],
   "source": [
    "tr['matchType'] = tr['matchType'].astype('category')\n",
    "te['matchType'] = te['matchType'].astype('category')"
   ]
  },
  {
   "cell_type": "markdown",
   "metadata": {},
   "source": [
    "Now object type changed to category"
   ]
  },
  {
   "cell_type": "code",
   "execution_count": 18,
   "metadata": {},
   "outputs": [
    {
     "data": {
      "text/plain": [
       "int64       19\n",
       "float64      7\n",
       "category     1\n",
       "dtype: int64"
      ]
     },
     "execution_count": 18,
     "metadata": {},
     "output_type": "execute_result"
    }
   ],
   "source": [
    "tr[base_feat].dtypes.value_counts()"
   ]
  },
  {
   "cell_type": "code",
   "execution_count": 19,
   "metadata": {},
   "outputs": [],
   "source": [
    "import time\n",
    "from sklearn import metrics\n",
    "from operator import itemgetter\n",
    "import lightgbm as lgb"
   ]
  },
  {
   "cell_type": "code",
   "execution_count": 20,
   "metadata": {},
   "outputs": [],
   "source": [
    "from sklearn.model_selection import train_test_split\n",
    "def LGB_HOLDOUT_REG(size_ratio, train_X, test_X, metric, is_shuffle):\n",
    "    X_tr,X_val,y_tr,y_val = train_test_split(train_X, train_Y, train_size = size_ratio, shuffle=is_shuffle)\n",
    "\n",
    "    val_lgb = np.zeros(len(X_val))\n",
    "    predictions = np.zeros(len(test_X))\n",
    "    \n",
    "    # Model parameters\n",
    "    lgb_params = {'num_leaves': 31,\n",
    "                 'min_data_in_leaf': 20, \n",
    "                 'objective':'regression',\n",
    "                 'max_depth': -1,\n",
    "                 'learning_rate': 0.1,\n",
    "                 \"boosting\": \"gbdt\",\n",
    "                 \"feature_fraction\": 1,\n",
    "                 \"bagging_freq\": 1,\n",
    "                 \"bagging_fraction\": 1,\n",
    "                 \"bagging_seed\": 42,\n",
    "                 \"metric\": metric,\n",
    "                 \"lambda_l1\": 0.0,\n",
    "                 \"verbosity\": 1000,\n",
    "                 \"nthread\": -1,\n",
    "                 \"random_state\": 42}\n",
    "\n",
    "    model_start = time.time()\n",
    "\n",
    "    model = lgb.LGBMRegressor(**lgb_params, n_estimators = 20000, n_jobs = -1)\n",
    "    model.fit(X_tr, \n",
    "              y_tr, \n",
    "              eval_set=[(X_tr, y_tr), (X_val, y_val)], \n",
    "              eval_metric=metric,\n",
    "              verbose=1000, \n",
    "              early_stopping_rounds=200)\n",
    "    val_lgb = model.predict(X_val, num_iteration=model.best_iteration_)\n",
    "\n",
    "    cv_score = model.best_score_\n",
    "\n",
    "    #feature importance\n",
    "    feature_importance_df = pd.DataFrame()\n",
    "    feature_importance_df[\"Feature\"] = train_X.columns\n",
    "    feature_importance_df[\"importance\"] = model.feature_importances_[:len(train_X.columns)]\n",
    "\n",
    "    #predictions\n",
    "    predictions = model.predict(test_X, num_iteration=model.best_iteration_)\n",
    "\n",
    "    print(\"-\" * 50)\n",
    "    print(\"HOLD_OUT \"+ metric + \" = {}\".format(cv_score))\n",
    "    lgb.plot_metric(model, metric=metric, title='auc plot', xlabel='Iterations', ylabel='auto', figsize=(10,8), grid=False)\n",
    "\n",
    "    model_end = time.time()\n",
    "    model_elapsed = model_end - model_start\n",
    "    print('Model elapsed {0:0.2f}'.format(model_elapsed/60), \"minutes.\")\n",
    "\n",
    "    # FEATURE IMPORTANCE\n",
    "    pd.set_option('display.max_rows', 500)\n",
    "    feature_importance_df['Feature Rank'] = feature_importance_df['importance'].rank(ascending=0)\n",
    "    feature_importance_df = feature_importance_df.sort_values('Feature Rank', ascending = True)\n",
    "    print(feature_importance_df.loc[feature_importance_df['importance']!=0].head(100))\n",
    "\n",
    "    return predictions, val_lgb, cv_score, feature_importance_df"
   ]
  },
  {
   "cell_type": "code",
   "execution_count": 21,
   "metadata": {},
   "outputs": [
    {
     "name": "stdout",
     "output_type": "stream",
     "text": [
      "Training until validation scores don't improve for 200 rounds\n",
      "[1000]\ttraining's l1: 0.0546671\tvalid_1's l1: 0.0550826\n",
      "[2000]\ttraining's l1: 0.0537909\tvalid_1's l1: 0.0545748\n",
      "[3000]\ttraining's l1: 0.053121\tvalid_1's l1: 0.0542379\n",
      "[4000]\ttraining's l1: 0.052565\tvalid_1's l1: 0.0540092\n",
      "[5000]\ttraining's l1: 0.052085\tvalid_1's l1: 0.0538539\n",
      "[6000]\ttraining's l1: 0.0516205\tvalid_1's l1: 0.0537041\n",
      "[7000]\ttraining's l1: 0.0512238\tvalid_1's l1: 0.0535996\n",
      "[8000]\ttraining's l1: 0.0508388\tvalid_1's l1: 0.0535069\n",
      "[9000]\ttraining's l1: 0.0504463\tvalid_1's l1: 0.0534107\n",
      "[10000]\ttraining's l1: 0.0500795\tvalid_1's l1: 0.0533297\n",
      "[11000]\ttraining's l1: 0.049726\tvalid_1's l1: 0.0532481\n",
      "[12000]\ttraining's l1: 0.0493972\tvalid_1's l1: 0.0532\n",
      "[13000]\ttraining's l1: 0.0490739\tvalid_1's l1: 0.053139\n",
      "[14000]\ttraining's l1: 0.0487602\tvalid_1's l1: 0.0530879\n",
      "[15000]\ttraining's l1: 0.0484536\tvalid_1's l1: 0.0530279\n",
      "[16000]\ttraining's l1: 0.0481482\tvalid_1's l1: 0.0529773\n",
      "[17000]\ttraining's l1: 0.0478565\tvalid_1's l1: 0.0529273\n",
      "[18000]\ttraining's l1: 0.0475631\tvalid_1's l1: 0.0528802\n",
      "[19000]\ttraining's l1: 0.0472765\tvalid_1's l1: 0.0528402\n",
      "[20000]\ttraining's l1: 0.0470014\tvalid_1's l1: 0.0527985\n",
      "Did not meet early stopping. Best iteration is:\n",
      "[20000]\ttraining's l1: 0.0470014\tvalid_1's l1: 0.0527985\n",
      "--------------------------------------------------\n",
      "HOLD_OUT mae = defaultdict(<class 'collections.OrderedDict'>, {'training': OrderedDict([('l1', 0.04700143848081905)]), 'valid_1': OrderedDict([('l1', 0.05279851030059549)])})\n"
     ]
    },
    {
     "ename": "KeyError",
     "evalue": "'No given metric in eval results.'",
     "output_type": "error",
     "traceback": [
      "\u001b[1;31m---------------------------------------------------------------------------\u001b[0m",
      "\u001b[1;31mKeyError\u001b[0m                                  Traceback (most recent call last)",
      "\u001b[1;32m<ipython-input-21-5c10e4ad2da6>\u001b[0m in \u001b[0;36m<module>\u001b[1;34m\u001b[0m\n\u001b[1;32m----> 1\u001b[1;33m \u001b[0mpred\u001b[0m\u001b[1;33m,\u001b[0m \u001b[0mval\u001b[0m\u001b[1;33m,\u001b[0m \u001b[0mcv\u001b[0m\u001b[1;33m,\u001b[0m \u001b[0mfeat\u001b[0m \u001b[1;33m=\u001b[0m \u001b[0mLGB_HOLDOUT_REG\u001b[0m\u001b[1;33m(\u001b[0m\u001b[1;36m0.8\u001b[0m\u001b[1;33m,\u001b[0m \u001b[0mtr\u001b[0m\u001b[1;33m[\u001b[0m\u001b[0mbase_feat\u001b[0m\u001b[1;33m]\u001b[0m\u001b[1;33m,\u001b[0m \u001b[0mte\u001b[0m\u001b[1;33m[\u001b[0m\u001b[0mbase_feat\u001b[0m\u001b[1;33m]\u001b[0m\u001b[1;33m,\u001b[0m \u001b[1;34m'mae'\u001b[0m\u001b[1;33m,\u001b[0m \u001b[0mis_shuffle\u001b[0m\u001b[1;33m=\u001b[0m\u001b[1;32mTrue\u001b[0m\u001b[1;33m)\u001b[0m\u001b[1;33m\u001b[0m\u001b[1;33m\u001b[0m\u001b[0m\n\u001b[0m",
      "\u001b[1;32m<ipython-input-20-cd49ede18e75>\u001b[0m in \u001b[0;36mLGB_HOLDOUT_REG\u001b[1;34m(size_ratio, train_X, test_X, metric, is_shuffle)\u001b[0m\n\u001b[0;32m     46\u001b[0m     \u001b[0mprint\u001b[0m\u001b[1;33m(\u001b[0m\u001b[1;34m\"-\"\u001b[0m \u001b[1;33m*\u001b[0m \u001b[1;36m50\u001b[0m\u001b[1;33m)\u001b[0m\u001b[1;33m\u001b[0m\u001b[1;33m\u001b[0m\u001b[0m\n\u001b[0;32m     47\u001b[0m     \u001b[0mprint\u001b[0m\u001b[1;33m(\u001b[0m\u001b[1;34m\"HOLD_OUT \"\u001b[0m\u001b[1;33m+\u001b[0m \u001b[0mmetric\u001b[0m \u001b[1;33m+\u001b[0m \u001b[1;34m\" = {}\"\u001b[0m\u001b[1;33m.\u001b[0m\u001b[0mformat\u001b[0m\u001b[1;33m(\u001b[0m\u001b[0mcv_score\u001b[0m\u001b[1;33m)\u001b[0m\u001b[1;33m)\u001b[0m\u001b[1;33m\u001b[0m\u001b[1;33m\u001b[0m\u001b[0m\n\u001b[1;32m---> 48\u001b[1;33m     \u001b[0mlgb\u001b[0m\u001b[1;33m.\u001b[0m\u001b[0mplot_metric\u001b[0m\u001b[1;33m(\u001b[0m\u001b[0mmodel\u001b[0m\u001b[1;33m,\u001b[0m \u001b[0mmetric\u001b[0m\u001b[1;33m=\u001b[0m\u001b[0mmetric\u001b[0m\u001b[1;33m,\u001b[0m \u001b[0mtitle\u001b[0m\u001b[1;33m=\u001b[0m\u001b[1;34m'auc plot'\u001b[0m\u001b[1;33m,\u001b[0m \u001b[0mxlabel\u001b[0m\u001b[1;33m=\u001b[0m\u001b[1;34m'Iterations'\u001b[0m\u001b[1;33m,\u001b[0m \u001b[0mylabel\u001b[0m\u001b[1;33m=\u001b[0m\u001b[1;34m'auto'\u001b[0m\u001b[1;33m,\u001b[0m \u001b[0mfigsize\u001b[0m\u001b[1;33m=\u001b[0m\u001b[1;33m(\u001b[0m\u001b[1;36m10\u001b[0m\u001b[1;33m,\u001b[0m\u001b[1;36m8\u001b[0m\u001b[1;33m)\u001b[0m\u001b[1;33m,\u001b[0m \u001b[0mgrid\u001b[0m\u001b[1;33m=\u001b[0m\u001b[1;32mFalse\u001b[0m\u001b[1;33m)\u001b[0m\u001b[1;33m\u001b[0m\u001b[1;33m\u001b[0m\u001b[0m\n\u001b[0m\u001b[0;32m     49\u001b[0m \u001b[1;33m\u001b[0m\u001b[0m\n\u001b[0;32m     50\u001b[0m     \u001b[0mmodel_end\u001b[0m \u001b[1;33m=\u001b[0m \u001b[0mtime\u001b[0m\u001b[1;33m.\u001b[0m\u001b[0mtime\u001b[0m\u001b[1;33m(\u001b[0m\u001b[1;33m)\u001b[0m\u001b[1;33m\u001b[0m\u001b[1;33m\u001b[0m\u001b[0m\n",
      "\u001b[1;32mc:\\users\\roal2\\appdata\\local\\programs\\python\\python37\\lib\\site-packages\\lightgbm\\plotting.py\u001b[0m in \u001b[0;36mplot_metric\u001b[1;34m(booster, metric, dataset_names, ax, xlim, ylim, title, xlabel, ylabel, figsize, dpi, grid)\u001b[0m\n\u001b[0;32m    335\u001b[0m     \u001b[1;32melse\u001b[0m\u001b[1;33m:\u001b[0m\u001b[1;33m\u001b[0m\u001b[1;33m\u001b[0m\u001b[0m\n\u001b[0;32m    336\u001b[0m         \u001b[1;32mif\u001b[0m \u001b[0mmetric\u001b[0m \u001b[1;32mnot\u001b[0m \u001b[1;32min\u001b[0m \u001b[0mmetrics_for_one\u001b[0m\u001b[1;33m:\u001b[0m\u001b[1;33m\u001b[0m\u001b[1;33m\u001b[0m\u001b[0m\n\u001b[1;32m--> 337\u001b[1;33m             \u001b[1;32mraise\u001b[0m \u001b[0mKeyError\u001b[0m\u001b[1;33m(\u001b[0m\u001b[1;34m'No given metric in eval results.'\u001b[0m\u001b[1;33m)\u001b[0m\u001b[1;33m\u001b[0m\u001b[1;33m\u001b[0m\u001b[0m\n\u001b[0m\u001b[0;32m    338\u001b[0m         \u001b[0mresults\u001b[0m \u001b[1;33m=\u001b[0m \u001b[0mmetrics_for_one\u001b[0m\u001b[1;33m[\u001b[0m\u001b[0mmetric\u001b[0m\u001b[1;33m]\u001b[0m\u001b[1;33m\u001b[0m\u001b[1;33m\u001b[0m\u001b[0m\n\u001b[0;32m    339\u001b[0m     \u001b[0mnum_iteration\u001b[0m\u001b[1;33m,\u001b[0m \u001b[0mmax_result\u001b[0m\u001b[1;33m,\u001b[0m \u001b[0mmin_result\u001b[0m \u001b[1;33m=\u001b[0m \u001b[0mlen\u001b[0m\u001b[1;33m(\u001b[0m\u001b[0mresults\u001b[0m\u001b[1;33m)\u001b[0m\u001b[1;33m,\u001b[0m \u001b[0mmax\u001b[0m\u001b[1;33m(\u001b[0m\u001b[0mresults\u001b[0m\u001b[1;33m)\u001b[0m\u001b[1;33m,\u001b[0m \u001b[0mmin\u001b[0m\u001b[1;33m(\u001b[0m\u001b[0mresults\u001b[0m\u001b[1;33m)\u001b[0m\u001b[1;33m\u001b[0m\u001b[1;33m\u001b[0m\u001b[0m\n",
      "\u001b[1;31mKeyError\u001b[0m: 'No given metric in eval results.'"
     ]
    },
    {
     "data": {
      "image/png": "[encoded data removed]",
      "text/plain": [
       "<Figure size 720x576 with 1 Axes>"
      ]
     },
     "metadata": {
      "needs_background": "light"
     },
     "output_type": "display_data"
    }
   ],
   "source": [
    "pred, val, cv, feat = LGB_HOLDOUT_REG(0.8, tr[base_feat], te[base_feat], 'l1', is_shuffle=True)"
   ]
  },
  {
   "cell_type": "code",
   "execution_count": null,
   "metadata": {},
   "outputs": [],
   "source": []
  }
 ],
 "metadata": {
  "kernelspec": {
   "display_name": "Python 3",
   "language": "python",
   "name": "python3"
  },
  "language_info": {
   "codemirror_mode": {
    "name": "ipython",
    "version": 3
   },
   "file_extension": ".py",
   "mimetype": "text/x-python",
   "name": "python",
   "nbconvert_exporter": "python",
   "pygments_lexer": "ipython3",
   "version": "3.7.1"
  }
 },
 "nbformat": 4,
 "nbformat_minor": 4
}
