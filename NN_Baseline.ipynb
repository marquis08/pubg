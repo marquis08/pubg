{
 "cells": [
  {
   "cell_type": "markdown",
   "metadata": {},
   "source": [
    "## **Summary from outlier**\n",
    "\n",
    "1. headshotrate > 0.5\n",
    "2. damagedealt >= 4000\n",
    "3. kills > 60\n",
    "4. killstreak > 10\n",
    "5. walkdistance > 7.5k\n",
    "6. weaponacquired > 20\n",
    "7. heals > 40\n",
    "8. boosts > 20\n",
    "9. totaldistance == 0 & kills > 0\n",
    "10. walkdistance == 0 & kills > 0\n",
    "11. ridedistance == 0 & roadkills > 0\n",
    "12. weaponacquired == 0 & winplaceperc > 0.5\n",
    "13. heals == 0 & winplaceperc > 0.8\n",
    "14. heals and boosts == 0 & winplaceperc > 0.8\n",
    "15. one NaN in target value"
   ]
  },
  {
   "cell_type": "code",
   "execution_count": 52,
   "metadata": {},
   "outputs": [],
   "source": [
    "import os, time, gc, random\n",
    "import pandas as pd, numpy as np\n",
    "from tqdm import tqdm\n",
    "import matplotlib.pyplot as plt\n",
    "import seaborn as sns"
   ]
  },
  {
   "cell_type": "code",
   "execution_count": 2,
   "metadata": {},
   "outputs": [
    {
     "data": {
      "text/plain": [
       "['sample_submission_V2.csv', 'test_V2.csv', 'train_V2.csv']"
      ]
     },
     "execution_count": 2,
     "metadata": {},
     "output_type": "execute_result"
    }
   ],
   "source": [
    "os.listdir('input')"
   ]
  },
  {
   "cell_type": "code",
   "execution_count": 3,
   "metadata": {},
   "outputs": [
    {
     "name": "stdout",
     "output_type": "stream",
     "text": [
      "Wall time: 25.8 s\n"
     ]
    }
   ],
   "source": [
    "%%time\n",
    "tr = pd.read_csv(\"input/train_V2.csv\")\n",
    "te = pd.read_csv(\"input/test_V2.csv\")"
   ]
  },
  {
   "cell_type": "code",
   "execution_count": 4,
   "metadata": {},
   "outputs": [],
   "source": [
    "def missing_values_table(df):# Function to calculate missing values by column# Funct \n",
    "    mis_val = df.isnull().sum() # Total missing values\n",
    "    mis_val_pct = 100 * df.isnull().sum() / len(df)# Percentage of missing values\n",
    "    mis_val_df = pd.concat([mis_val, mis_val_pct], axis=1)# Make a table with the results\n",
    "    mis_val_df_cols = mis_val_df.rename(columns = {0 : 'Missing Values', 1 : '% of Total Values'})# Rename the columns\n",
    "    mis_val_df_cols = mis_val_df_cols[mis_val_df_cols.iloc[:,1] != 0].sort_values('% of Total Values', ascending=False).round(1)# Sort the table by percentage of missing descending\n",
    "    print (\"Dataframe has \" + str(df.shape[1]) + \" columns.\\n\" \n",
    "           \"There are \" + str(mis_val_df_cols.shape[0]) + \" cols having missing values.\")# Print some summary information\n",
    "    return mis_val_df_cols # Return the dataframe with missing information"
   ]
  },
  {
   "cell_type": "code",
   "execution_count": 5,
   "metadata": {},
   "outputs": [
    {
     "name": "stdout",
     "output_type": "stream",
     "text": [
      "Dataframe has 29 columns.\n",
      "There are 1 cols having missing values.\n"
     ]
    },
    {
     "data": {
      "text/html": [
       "<div>\n",
       "<style scoped>\n",
       "    .dataframe tbody tr th:only-of-type {\n",
       "        vertical-align: middle;\n",
       "    }\n",
       "\n",
       "    .dataframe tbody tr th {\n",
       "        vertical-align: top;\n",
       "    }\n",
       "\n",
       "    .dataframe thead th {\n",
       "        text-align: right;\n",
       "    }\n",
       "</style>\n",
       "<table border=\"1\" class=\"dataframe\">\n",
       "  <thead>\n",
       "    <tr style=\"text-align: right;\">\n",
       "      <th></th>\n",
       "      <th>Missing Values</th>\n",
       "      <th>% of Total Values</th>\n",
       "    </tr>\n",
       "  </thead>\n",
       "  <tbody>\n",
       "    <tr>\n",
       "      <th>winPlacePerc</th>\n",
       "      <td>1</td>\n",
       "      <td>0.0</td>\n",
       "    </tr>\n",
       "  </tbody>\n",
       "</table>\n",
       "</div>"
      ],
      "text/plain": [
       "              Missing Values  % of Total Values\n",
       "winPlacePerc               1                0.0"
      ]
     },
     "execution_count": 5,
     "metadata": {},
     "output_type": "execute_result"
    }
   ],
   "source": [
    "missing_values_table(tr)"
   ]
  },
  {
   "cell_type": "code",
   "execution_count": 6,
   "metadata": {},
   "outputs": [
    {
     "name": "stdout",
     "output_type": "stream",
     "text": [
      "Dataframe has 28 columns.\n",
      "There are 0 cols having missing values.\n"
     ]
    },
    {
     "data": {
      "text/html": [
       "<div>\n",
       "<style scoped>\n",
       "    .dataframe tbody tr th:only-of-type {\n",
       "        vertical-align: middle;\n",
       "    }\n",
       "\n",
       "    .dataframe tbody tr th {\n",
       "        vertical-align: top;\n",
       "    }\n",
       "\n",
       "    .dataframe thead th {\n",
       "        text-align: right;\n",
       "    }\n",
       "</style>\n",
       "<table border=\"1\" class=\"dataframe\">\n",
       "  <thead>\n",
       "    <tr style=\"text-align: right;\">\n",
       "      <th></th>\n",
       "      <th>Missing Values</th>\n",
       "      <th>% of Total Values</th>\n",
       "    </tr>\n",
       "  </thead>\n",
       "  <tbody>\n",
       "  </tbody>\n",
       "</table>\n",
       "</div>"
      ],
      "text/plain": [
       "Empty DataFrame\n",
       "Columns: [Missing Values, % of Total Values]\n",
       "Index: []"
      ]
     },
     "execution_count": 6,
     "metadata": {},
     "output_type": "execute_result"
    }
   ],
   "source": [
    "missing_values_table(te)"
   ]
  },
  {
   "cell_type": "code",
   "execution_count": 7,
   "metadata": {},
   "outputs": [
    {
     "data": {
      "text/html": [
       "<div>\n",
       "<style scoped>\n",
       "    .dataframe tbody tr th:only-of-type {\n",
       "        vertical-align: middle;\n",
       "    }\n",
       "\n",
       "    .dataframe tbody tr th {\n",
       "        vertical-align: top;\n",
       "    }\n",
       "\n",
       "    .dataframe thead th {\n",
       "        text-align: right;\n",
       "    }\n",
       "</style>\n",
       "<table border=\"1\" class=\"dataframe\">\n",
       "  <thead>\n",
       "    <tr style=\"text-align: right;\">\n",
       "      <th></th>\n",
       "      <th>Id</th>\n",
       "      <th>groupId</th>\n",
       "      <th>matchId</th>\n",
       "      <th>assists</th>\n",
       "      <th>boosts</th>\n",
       "      <th>damageDealt</th>\n",
       "      <th>DBNOs</th>\n",
       "      <th>headshotKills</th>\n",
       "      <th>heals</th>\n",
       "      <th>killPlace</th>\n",
       "      <th>...</th>\n",
       "      <th>revives</th>\n",
       "      <th>rideDistance</th>\n",
       "      <th>roadKills</th>\n",
       "      <th>swimDistance</th>\n",
       "      <th>teamKills</th>\n",
       "      <th>vehicleDestroys</th>\n",
       "      <th>walkDistance</th>\n",
       "      <th>weaponsAcquired</th>\n",
       "      <th>winPoints</th>\n",
       "      <th>winPlacePerc</th>\n",
       "    </tr>\n",
       "  </thead>\n",
       "  <tbody>\n",
       "    <tr>\n",
       "      <th>2744604</th>\n",
       "      <td>f70c74418bb064</td>\n",
       "      <td>12dfbede33f92b</td>\n",
       "      <td>224a123c53e008</td>\n",
       "      <td>0</td>\n",
       "      <td>0</td>\n",
       "      <td>0.0</td>\n",
       "      <td>0</td>\n",
       "      <td>0</td>\n",
       "      <td>0</td>\n",
       "      <td>1</td>\n",
       "      <td>...</td>\n",
       "      <td>0</td>\n",
       "      <td>0.0</td>\n",
       "      <td>0</td>\n",
       "      <td>0.0</td>\n",
       "      <td>0</td>\n",
       "      <td>0</td>\n",
       "      <td>0.0</td>\n",
       "      <td>0</td>\n",
       "      <td>0</td>\n",
       "      <td>NaN</td>\n",
       "    </tr>\n",
       "  </tbody>\n",
       "</table>\n",
       "<p>1 rows × 29 columns</p>\n",
       "</div>"
      ],
      "text/plain": [
       "                     Id         groupId         matchId  assists  boosts  \\\n",
       "2744604  f70c74418bb064  12dfbede33f92b  224a123c53e008        0       0   \n",
       "\n",
       "         damageDealt  DBNOs  headshotKills  heals  killPlace  ...  revives  \\\n",
       "2744604          0.0      0              0      0          1  ...        0   \n",
       "\n",
       "         rideDistance  roadKills  swimDistance  teamKills vehicleDestroys  \\\n",
       "2744604           0.0          0           0.0          0               0   \n",
       "\n",
       "         walkDistance  weaponsAcquired  winPoints  winPlacePerc  \n",
       "2744604           0.0                0          0           NaN  \n",
       "\n",
       "[1 rows x 29 columns]"
      ]
     },
     "execution_count": 7,
     "metadata": {},
     "output_type": "execute_result"
    }
   ],
   "source": [
    "tr[tr['winPlacePerc'].isnull()]"
   ]
  },
  {
   "cell_type": "code",
   "execution_count": 8,
   "metadata": {},
   "outputs": [],
   "source": [
    "tr.drop(2744604, inplace=True)"
   ]
  },
  {
   "cell_type": "code",
   "execution_count": 9,
   "metadata": {},
   "outputs": [],
   "source": [
    "def base(df):\n",
    "    df['headshot_rate'] = df['headshotKills']/df['kills']\n",
    "    df['total_distance'] = df[df.filter(regex='Dist').columns.tolist()].sum(axis=1)\n",
    "    df['heals_n_boosts'] = df[['heals','boosts']].sum(axis=1)\n",
    "    return df"
   ]
  },
  {
   "cell_type": "code",
   "execution_count": 10,
   "metadata": {},
   "outputs": [],
   "source": [
    "tr = base(tr)\n",
    "te = base(te)"
   ]
  },
  {
   "cell_type": "code",
   "execution_count": 11,
   "metadata": {},
   "outputs": [],
   "source": [
    "tr['is_outlier'] = np.where(tr['headshot_rate']> 0.5, 1, 0)\n",
    "tr['is_outlier'] = np.where(tr['damageDealt']>=4000, 1, 0)\n",
    "tr['is_outlier'] = np.where(tr['kills']> 60, 1, 0)\n",
    "tr['is_outlier'] = np.where(tr['killStreaks']> 10, 1, 0)\n",
    "tr['is_outlier'] = np.where(tr['walkDistance']> 7500, 1, 0)\n",
    "tr['is_outlier'] = np.where(tr['weaponsAcquired']> 20, 1, 0)\n",
    "tr['is_outlier'] = np.where(tr['heals']> 40, 1, 0)\n",
    "tr['is_outlier'] = np.where(tr['boosts']> 20, 1, 0)\n",
    "tr['is_outlier'] = np.where((tr['total_distance']==0)&(tr['kills']!=0), 1, 0)\n",
    "tr['is_outlier'] = np.where((tr['walkDistance']==0)&(tr['kills']!=0), 1, 0)\n",
    "tr['is_outlier'] = np.where((tr['rideDistance']==0)&(tr['roadKills']!=0), 1, 0)\n",
    "tr['is_outlier'] = np.where((tr['weaponsAcquired']==0)&(tr['winPlacePerc']>0.5), 1, 0)\n",
    "tr['is_outlier'] = np.where((tr['heals']==0)&(tr['winPlacePerc']>0.8), 1, 0)\n",
    "tr['is_outlier'] = np.where((tr['heals_n_boosts']==0)&(tr['winPlacePerc']>0.8), 1, 0)"
   ]
  },
  {
   "cell_type": "code",
   "execution_count": 12,
   "metadata": {},
   "outputs": [
    {
     "name": "stdout",
     "output_type": "stream",
     "text": [
      "The total number of outliers\n",
      "n = 81343\n",
      "% = 0.01829180126220917\n"
     ]
    }
   ],
   "source": [
    "print(\"The total number of outliers\")\n",
    "print(\"n = {}\".format(tr['is_outlier'].sum()))\n",
    "print(\"% = {}\".format(tr['is_outlier'].sum()/tr.shape[0]))"
   ]
  },
  {
   "cell_type": "markdown",
   "metadata": {},
   "source": [
    "# Build Model"
   ]
  },
  {
   "cell_type": "markdown",
   "metadata": {},
   "source": [
    "**Train model w/o outliers**"
   ]
  },
  {
   "cell_type": "code",
   "execution_count": 13,
   "metadata": {},
   "outputs": [
    {
     "name": "stdout",
     "output_type": "stream",
     "text": [
      "(4446965, 33)\n",
      "(4365622, 33)\n"
     ]
    }
   ],
   "source": [
    "print(tr.shape)\n",
    "tr = tr[tr['is_outlier']==0]\n",
    "print(tr.shape)"
   ]
  },
  {
   "cell_type": "code",
   "execution_count": 16,
   "metadata": {},
   "outputs": [
    {
     "data": {
      "text/plain": [
       "Index(['matchType'], dtype='object')"
      ]
     },
     "execution_count": 16,
     "metadata": {},
     "output_type": "execute_result"
    }
   ],
   "source": [
    "tr[base_feat].select_dtypes(include=['object']).columns"
   ]
  },
  {
   "cell_type": "markdown",
   "metadata": {},
   "source": [
    "**make object dtype to ohe**"
   ]
  },
  {
   "cell_type": "code",
   "execution_count": 26,
   "metadata": {},
   "outputs": [
    {
     "data": {
      "text/html": [
       "<div>\n",
       "<style scoped>\n",
       "    .dataframe tbody tr th:only-of-type {\n",
       "        vertical-align: middle;\n",
       "    }\n",
       "\n",
       "    .dataframe tbody tr th {\n",
       "        vertical-align: top;\n",
       "    }\n",
       "\n",
       "    .dataframe thead th {\n",
       "        text-align: right;\n",
       "    }\n",
       "</style>\n",
       "<table border=\"1\" class=\"dataframe\">\n",
       "  <thead>\n",
       "    <tr style=\"text-align: right;\">\n",
       "      <th></th>\n",
       "      <th>Id</th>\n",
       "      <th>groupId</th>\n",
       "      <th>matchId</th>\n",
       "      <th>assists</th>\n",
       "      <th>boosts</th>\n",
       "      <th>damageDealt</th>\n",
       "      <th>DBNOs</th>\n",
       "      <th>headshotKills</th>\n",
       "      <th>heals</th>\n",
       "      <th>killPlace</th>\n",
       "      <th>...</th>\n",
       "      <th>normal-duo</th>\n",
       "      <th>normal-duo-fpp</th>\n",
       "      <th>normal-solo</th>\n",
       "      <th>normal-solo-fpp</th>\n",
       "      <th>normal-squad</th>\n",
       "      <th>normal-squad-fpp</th>\n",
       "      <th>solo</th>\n",
       "      <th>solo-fpp</th>\n",
       "      <th>squad</th>\n",
       "      <th>squad-fpp</th>\n",
       "    </tr>\n",
       "  </thead>\n",
       "  <tbody>\n",
       "    <tr>\n",
       "      <th>0</th>\n",
       "      <td>7f96b2f878858a</td>\n",
       "      <td>4d4b580de459be</td>\n",
       "      <td>a10357fd1a4a91</td>\n",
       "      <td>0</td>\n",
       "      <td>0</td>\n",
       "      <td>0.00</td>\n",
       "      <td>0</td>\n",
       "      <td>0</td>\n",
       "      <td>0</td>\n",
       "      <td>60</td>\n",
       "      <td>...</td>\n",
       "      <td>0</td>\n",
       "      <td>0</td>\n",
       "      <td>0</td>\n",
       "      <td>0</td>\n",
       "      <td>0</td>\n",
       "      <td>0</td>\n",
       "      <td>0</td>\n",
       "      <td>0</td>\n",
       "      <td>0</td>\n",
       "      <td>1</td>\n",
       "    </tr>\n",
       "    <tr>\n",
       "      <th>1</th>\n",
       "      <td>eef90569b9d03c</td>\n",
       "      <td>684d5656442f9e</td>\n",
       "      <td>aeb375fc57110c</td>\n",
       "      <td>0</td>\n",
       "      <td>0</td>\n",
       "      <td>91.47</td>\n",
       "      <td>0</td>\n",
       "      <td>0</td>\n",
       "      <td>0</td>\n",
       "      <td>57</td>\n",
       "      <td>...</td>\n",
       "      <td>0</td>\n",
       "      <td>0</td>\n",
       "      <td>0</td>\n",
       "      <td>0</td>\n",
       "      <td>0</td>\n",
       "      <td>0</td>\n",
       "      <td>0</td>\n",
       "      <td>0</td>\n",
       "      <td>0</td>\n",
       "      <td>1</td>\n",
       "    </tr>\n",
       "    <tr>\n",
       "      <th>2</th>\n",
       "      <td>1eaf90ac73de72</td>\n",
       "      <td>6a4a42c3245a74</td>\n",
       "      <td>110163d8bb94ae</td>\n",
       "      <td>1</td>\n",
       "      <td>0</td>\n",
       "      <td>68.00</td>\n",
       "      <td>0</td>\n",
       "      <td>0</td>\n",
       "      <td>0</td>\n",
       "      <td>47</td>\n",
       "      <td>...</td>\n",
       "      <td>0</td>\n",
       "      <td>0</td>\n",
       "      <td>0</td>\n",
       "      <td>0</td>\n",
       "      <td>0</td>\n",
       "      <td>0</td>\n",
       "      <td>0</td>\n",
       "      <td>0</td>\n",
       "      <td>0</td>\n",
       "      <td>0</td>\n",
       "    </tr>\n",
       "    <tr>\n",
       "      <th>3</th>\n",
       "      <td>4616d365dd2853</td>\n",
       "      <td>a930a9c79cd721</td>\n",
       "      <td>f1f1f4ef412d7e</td>\n",
       "      <td>0</td>\n",
       "      <td>0</td>\n",
       "      <td>32.90</td>\n",
       "      <td>0</td>\n",
       "      <td>0</td>\n",
       "      <td>0</td>\n",
       "      <td>75</td>\n",
       "      <td>...</td>\n",
       "      <td>0</td>\n",
       "      <td>0</td>\n",
       "      <td>0</td>\n",
       "      <td>0</td>\n",
       "      <td>0</td>\n",
       "      <td>0</td>\n",
       "      <td>0</td>\n",
       "      <td>0</td>\n",
       "      <td>0</td>\n",
       "      <td>1</td>\n",
       "    </tr>\n",
       "    <tr>\n",
       "      <th>4</th>\n",
       "      <td>315c96c26c9aac</td>\n",
       "      <td>de04010b3458dd</td>\n",
       "      <td>6dc8ff871e21e6</td>\n",
       "      <td>0</td>\n",
       "      <td>0</td>\n",
       "      <td>100.00</td>\n",
       "      <td>0</td>\n",
       "      <td>0</td>\n",
       "      <td>0</td>\n",
       "      <td>45</td>\n",
       "      <td>...</td>\n",
       "      <td>0</td>\n",
       "      <td>0</td>\n",
       "      <td>0</td>\n",
       "      <td>0</td>\n",
       "      <td>0</td>\n",
       "      <td>0</td>\n",
       "      <td>0</td>\n",
       "      <td>1</td>\n",
       "      <td>0</td>\n",
       "      <td>0</td>\n",
       "    </tr>\n",
       "  </tbody>\n",
       "</table>\n",
       "<p>5 rows × 49 columns</p>\n",
       "</div>"
      ],
      "text/plain": [
       "               Id         groupId         matchId  assists  boosts  \\\n",
       "0  7f96b2f878858a  4d4b580de459be  a10357fd1a4a91        0       0   \n",
       "1  eef90569b9d03c  684d5656442f9e  aeb375fc57110c        0       0   \n",
       "2  1eaf90ac73de72  6a4a42c3245a74  110163d8bb94ae        1       0   \n",
       "3  4616d365dd2853  a930a9c79cd721  f1f1f4ef412d7e        0       0   \n",
       "4  315c96c26c9aac  de04010b3458dd  6dc8ff871e21e6        0       0   \n",
       "\n",
       "   damageDealt  DBNOs  headshotKills  heals  killPlace  ...  normal-duo  \\\n",
       "0         0.00      0              0      0         60  ...           0   \n",
       "1        91.47      0              0      0         57  ...           0   \n",
       "2        68.00      0              0      0         47  ...           0   \n",
       "3        32.90      0              0      0         75  ...           0   \n",
       "4       100.00      0              0      0         45  ...           0   \n",
       "\n",
       "   normal-duo-fpp  normal-solo  normal-solo-fpp  normal-squad  \\\n",
       "0               0            0                0             0   \n",
       "1               0            0                0             0   \n",
       "2               0            0                0             0   \n",
       "3               0            0                0             0   \n",
       "4               0            0                0             0   \n",
       "\n",
       "  normal-squad-fpp  solo  solo-fpp  squad  squad-fpp  \n",
       "0                0     0         0      0          1  \n",
       "1                0     0         0      0          1  \n",
       "2                0     0         0      0          0  \n",
       "3                0     0         0      0          1  \n",
       "4                0     0         1      0          0  \n",
       "\n",
       "[5 rows x 49 columns]"
      ]
     },
     "execution_count": 26,
     "metadata": {},
     "output_type": "execute_result"
    }
   ],
   "source": [
    "tr = pd.concat([tr,pd.get_dummies(tr['matchType'])], axis=1)\n",
    "te = pd.concat([te,pd.get_dummies(te['matchType'])], axis=1)\n",
    "tr.head()"
   ]
  },
  {
   "cell_type": "markdown",
   "metadata": {},
   "source": [
    "#### **Scaling**"
   ]
  },
  {
   "cell_type": "code",
   "execution_count": 43,
   "metadata": {},
   "outputs": [],
   "source": [
    "# exclude target and outlier columns\n",
    "base_feat = tr.columns[3:-21].tolist()+tr.columns[29:32].tolist()+tr.columns[33:].tolist()\n",
    "train_Y = tr['winPlacePerc']"
   ]
  },
  {
   "cell_type": "markdown",
   "metadata": {},
   "source": [
    "Make object type to category for lightgbm model to take."
   ]
  },
  {
   "cell_type": "code",
   "execution_count": 44,
   "metadata": {},
   "outputs": [
    {
     "data": {
      "text/plain": [
       "int64      20\n",
       "uint8      16\n",
       "float64     7\n",
       "object      1\n",
       "dtype: int64"
      ]
     },
     "execution_count": 44,
     "metadata": {},
     "output_type": "execute_result"
    }
   ],
   "source": [
    "tr[base_feat].dtypes.value_counts()"
   ]
  },
  {
   "cell_type": "code",
   "execution_count": 45,
   "metadata": {},
   "outputs": [
    {
     "data": {
      "text/plain": [
       "Index(['assists', 'boosts', 'damageDealt', 'DBNOs', 'headshotKills', 'heals',\n",
       "       'killPlace', 'killPoints', 'kills', 'killStreaks', 'longestKill',\n",
       "       'matchDuration', 'matchType', 'maxPlace', 'numGroups', 'rankPoints',\n",
       "       'revives', 'rideDistance', 'roadKills', 'swimDistance', 'teamKills',\n",
       "       'vehicleDestroys', 'walkDistance', 'weaponsAcquired', 'winPoints',\n",
       "       'headshot_rate', 'total_distance', 'heals_n_boosts', 'crashfpp',\n",
       "       'crashtpp', 'duo', 'duo-fpp', 'flarefpp', 'flaretpp', 'normal-duo',\n",
       "       'normal-duo-fpp', 'normal-solo', 'normal-solo-fpp', 'normal-squad',\n",
       "       'normal-squad-fpp', 'solo', 'solo-fpp', 'squad', 'squad-fpp'],\n",
       "      dtype='object')"
      ]
     },
     "execution_count": 45,
     "metadata": {},
     "output_type": "execute_result"
    }
   ],
   "source": [
    "tr[base_feat].columns"
   ]
  },
  {
   "cell_type": "code",
   "execution_count": 46,
   "metadata": {},
   "outputs": [],
   "source": [
    "from sklearn.preprocessing import StandardScaler\n",
    "\n",
    "scaler = StandardScaler()\n",
    "tr_X = scaler.fit_transform(tr[base_feat].drop(['matchType'],axis=1))\n",
    "te_X = scaler.transform(te[base_feat].drop(['matchType'],axis=1))"
   ]
  },
  {
   "cell_type": "code",
   "execution_count": 49,
   "metadata": {},
   "outputs": [
    {
     "data": {
      "text/html": [
       "<div>\n",
       "<style scoped>\n",
       "    .dataframe tbody tr th:only-of-type {\n",
       "        vertical-align: middle;\n",
       "    }\n",
       "\n",
       "    .dataframe tbody tr th {\n",
       "        vertical-align: top;\n",
       "    }\n",
       "\n",
       "    .dataframe thead th {\n",
       "        text-align: right;\n",
       "    }\n",
       "</style>\n",
       "<table border=\"1\" class=\"dataframe\">\n",
       "  <thead>\n",
       "    <tr style=\"text-align: right;\">\n",
       "      <th></th>\n",
       "      <th>0</th>\n",
       "      <th>1</th>\n",
       "      <th>2</th>\n",
       "      <th>3</th>\n",
       "      <th>4</th>\n",
       "      <th>5</th>\n",
       "      <th>6</th>\n",
       "      <th>7</th>\n",
       "      <th>8</th>\n",
       "      <th>9</th>\n",
       "      <th>...</th>\n",
       "      <th>33</th>\n",
       "      <th>34</th>\n",
       "      <th>35</th>\n",
       "      <th>36</th>\n",
       "      <th>37</th>\n",
       "      <th>38</th>\n",
       "      <th>39</th>\n",
       "      <th>40</th>\n",
       "      <th>41</th>\n",
       "      <th>42</th>\n",
       "    </tr>\n",
       "  </thead>\n",
       "  <tbody>\n",
       "    <tr>\n",
       "      <th>0</th>\n",
       "      <td>-0.397433</td>\n",
       "      <td>-0.653651</td>\n",
       "      <td>-0.767703</td>\n",
       "      <td>-0.576252</td>\n",
       "      <td>-0.378447</td>\n",
       "      <td>-0.517255</td>\n",
       "      <td>0.440453</td>\n",
       "      <td>1.172702</td>\n",
       "      <td>-0.595752</td>\n",
       "      <td>-0.766310</td>\n",
       "      <td>...</td>\n",
       "      <td>-0.006615</td>\n",
       "      <td>-0.035094</td>\n",
       "      <td>-0.008413</td>\n",
       "      <td>-0.018761</td>\n",
       "      <td>-0.010541</td>\n",
       "      <td>-0.061388</td>\n",
       "      <td>-0.206225</td>\n",
       "      <td>-0.370437</td>\n",
       "      <td>-0.404875</td>\n",
       "      <td>1.237990</td>\n",
       "    </tr>\n",
       "    <tr>\n",
       "      <th>1</th>\n",
       "      <td>-0.397433</td>\n",
       "      <td>-0.653651</td>\n",
       "      <td>-0.232835</td>\n",
       "      <td>-0.576252</td>\n",
       "      <td>-0.378447</td>\n",
       "      <td>-0.517255</td>\n",
       "      <td>0.331714</td>\n",
       "      <td>-0.804599</td>\n",
       "      <td>-0.595752</td>\n",
       "      <td>-0.766310</td>\n",
       "      <td>...</td>\n",
       "      <td>-0.006615</td>\n",
       "      <td>-0.035094</td>\n",
       "      <td>-0.008413</td>\n",
       "      <td>-0.018761</td>\n",
       "      <td>-0.010541</td>\n",
       "      <td>-0.061388</td>\n",
       "      <td>-0.206225</td>\n",
       "      <td>-0.370437</td>\n",
       "      <td>-0.404875</td>\n",
       "      <td>1.237990</td>\n",
       "    </tr>\n",
       "    <tr>\n",
       "      <th>2</th>\n",
       "      <td>1.302641</td>\n",
       "      <td>-0.653651</td>\n",
       "      <td>-0.370075</td>\n",
       "      <td>-0.576252</td>\n",
       "      <td>-0.378447</td>\n",
       "      <td>-0.517255</td>\n",
       "      <td>-0.030751</td>\n",
       "      <td>-0.804599</td>\n",
       "      <td>-0.595752</td>\n",
       "      <td>-0.766310</td>\n",
       "      <td>...</td>\n",
       "      <td>-0.006615</td>\n",
       "      <td>-0.035094</td>\n",
       "      <td>-0.008413</td>\n",
       "      <td>-0.018761</td>\n",
       "      <td>-0.010541</td>\n",
       "      <td>-0.061388</td>\n",
       "      <td>-0.206225</td>\n",
       "      <td>-0.370437</td>\n",
       "      <td>-0.404875</td>\n",
       "      <td>-0.807761</td>\n",
       "    </tr>\n",
       "    <tr>\n",
       "      <th>3</th>\n",
       "      <td>-0.397433</td>\n",
       "      <td>-0.653651</td>\n",
       "      <td>-0.575321</td>\n",
       "      <td>-0.576252</td>\n",
       "      <td>-0.378447</td>\n",
       "      <td>-0.517255</td>\n",
       "      <td>0.984151</td>\n",
       "      <td>-0.804599</td>\n",
       "      <td>-0.595752</td>\n",
       "      <td>-0.766310</td>\n",
       "      <td>...</td>\n",
       "      <td>-0.006615</td>\n",
       "      <td>-0.035094</td>\n",
       "      <td>-0.008413</td>\n",
       "      <td>-0.018761</td>\n",
       "      <td>-0.010541</td>\n",
       "      <td>-0.061388</td>\n",
       "      <td>-0.206225</td>\n",
       "      <td>-0.370437</td>\n",
       "      <td>-0.404875</td>\n",
       "      <td>1.237990</td>\n",
       "    </tr>\n",
       "    <tr>\n",
       "      <th>4</th>\n",
       "      <td>-0.397433</td>\n",
       "      <td>-0.653651</td>\n",
       "      <td>-0.182956</td>\n",
       "      <td>-0.576252</td>\n",
       "      <td>-0.378447</td>\n",
       "      <td>-0.517255</td>\n",
       "      <td>-0.103244</td>\n",
       "      <td>-0.804599</td>\n",
       "      <td>0.045543</td>\n",
       "      <td>0.638162</td>\n",
       "      <td>...</td>\n",
       "      <td>-0.006615</td>\n",
       "      <td>-0.035094</td>\n",
       "      <td>-0.008413</td>\n",
       "      <td>-0.018761</td>\n",
       "      <td>-0.010541</td>\n",
       "      <td>-0.061388</td>\n",
       "      <td>-0.206225</td>\n",
       "      <td>2.699516</td>\n",
       "      <td>-0.404875</td>\n",
       "      <td>-0.807761</td>\n",
       "    </tr>\n",
       "  </tbody>\n",
       "</table>\n",
       "<p>5 rows × 43 columns</p>\n",
       "</div>"
      ],
      "text/plain": [
       "         0         1         2         3         4         5         6   \\\n",
       "0 -0.397433 -0.653651 -0.767703 -0.576252 -0.378447 -0.517255  0.440453   \n",
       "1 -0.397433 -0.653651 -0.232835 -0.576252 -0.378447 -0.517255  0.331714   \n",
       "2  1.302641 -0.653651 -0.370075 -0.576252 -0.378447 -0.517255 -0.030751   \n",
       "3 -0.397433 -0.653651 -0.575321 -0.576252 -0.378447 -0.517255  0.984151   \n",
       "4 -0.397433 -0.653651 -0.182956 -0.576252 -0.378447 -0.517255 -0.103244   \n",
       "\n",
       "         7         8         9   ...        33        34        35        36  \\\n",
       "0  1.172702 -0.595752 -0.766310  ... -0.006615 -0.035094 -0.008413 -0.018761   \n",
       "1 -0.804599 -0.595752 -0.766310  ... -0.006615 -0.035094 -0.008413 -0.018761   \n",
       "2 -0.804599 -0.595752 -0.766310  ... -0.006615 -0.035094 -0.008413 -0.018761   \n",
       "3 -0.804599 -0.595752 -0.766310  ... -0.006615 -0.035094 -0.008413 -0.018761   \n",
       "4 -0.804599  0.045543  0.638162  ... -0.006615 -0.035094 -0.008413 -0.018761   \n",
       "\n",
       "         37        38        39        40        41        42  \n",
       "0 -0.010541 -0.061388 -0.206225 -0.370437 -0.404875  1.237990  \n",
       "1 -0.010541 -0.061388 -0.206225 -0.370437 -0.404875  1.237990  \n",
       "2 -0.010541 -0.061388 -0.206225 -0.370437 -0.404875 -0.807761  \n",
       "3 -0.010541 -0.061388 -0.206225 -0.370437 -0.404875  1.237990  \n",
       "4 -0.010541 -0.061388 -0.206225  2.699516 -0.404875 -0.807761  \n",
       "\n",
       "[5 rows x 43 columns]"
      ]
     },
     "execution_count": 49,
     "metadata": {},
     "output_type": "execute_result"
    }
   ],
   "source": [
    "tr_X = pd.DataFrame(tr_X)\n",
    "tr_X.head()"
   ]
  },
  {
   "cell_type": "markdown",
   "metadata": {},
   "source": [
    "### **Build NN Model**"
   ]
  },
  {
   "cell_type": "code",
   "execution_count": 70,
   "metadata": {},
   "outputs": [],
   "source": [
    "import torch\n",
    "from torch.utils.data import DataLoader, TensorDataset\n",
    "import torch.nn as nn\n",
    "from torch.nn.utils.weight_norm import weight_norm\n",
    "from torch.optim import Optimizer\n",
    "from sklearn import preprocessing\n",
    "from sklearn.model_selection import KFold, train_test_split\n",
    "import joblib\n",
    "\n",
    "def seed_everything(seed):\n",
    "    random.seed(seed)\n",
    "    os.environ['PYTHONHASHSEED'] = str(seed)\n",
    "    np.random.seed(seed)\n",
    "    torch.manual_seed(seed)\n",
    "    torch.cuda.manual_seed(seed)\n",
    "    torch.backends.cudnn.deterministic = True\n",
    "\n",
    "SEED = 42\n",
    "seed_everything(SEED)"
   ]
  },
  {
   "cell_type": "code",
   "execution_count": 58,
   "metadata": {},
   "outputs": [],
   "source": [
    "def PubgDataset(x, y):\n",
    "    return TensorDataset(\n",
    "        torch.from_numpy(x).float(),\n",
    "        torch.from_numpy(y).float()\n",
    "    )"
   ]
  },
  {
   "cell_type": "code",
   "execution_count": 60,
   "metadata": {},
   "outputs": [
    {
     "data": {
      "text/plain": [
       "<function torch.nn.utils.weight_norm.weight_norm(module, name='weight', dim=0)>"
      ]
     },
     "execution_count": 60,
     "metadata": {},
     "output_type": "execute_result"
    }
   ],
   "source": [
    "weight_norm"
   ]
  },
  {
   "cell_type": "code",
   "execution_count": 61,
   "metadata": {},
   "outputs": [],
   "source": [
    "def build_loader(x, y, batch_size, shuffle, num_workers):\n",
    "    dataset = PubgDataset(x, y)\n",
    "    return DataLoader(\n",
    "        dataset, batch_size = batch_size, shuffle=shuffle, num_workers=num_workers\n",
    "    )"
   ]
  },
  {
   "cell_type": "code",
   "execution_count": 62,
   "metadata": {},
   "outputs": [],
   "source": [
    "class MLP(nn.Module):\n",
    "    def __init__(self, num_features):\n",
    "        super(MLP, self).__init__()\n",
    "        self.model = nn.Sequential(\n",
    "            weight_norm(nn.Linear(num_features, 128)),\n",
    "            nn.ReLU(),\n",
    "            weight_norm(nn.Linear(128, 128)),\n",
    "            nn.ReLU(),\n",
    "            weight_norm(nn.Linear(128, 128)),\n",
    "            nn.ReLU(),\n",
    "            weight_norm(nn.Linear(128, 128)),\n",
    "            nn.ReLU(),\n",
    "            weight_norm(nn.Linear(128, 1))\n",
    "            \n",
    "        )\n",
    "        \n",
    "    def forward(self, x):\n",
    "        out = self.model(x)\n",
    "        return out\n",
    "        "
   ]
  },
  {
   "cell_type": "code",
   "execution_count": 68,
   "metadata": {},
   "outputs": [],
   "source": [
    "train_Y = tr['winPlacePerc']"
   ]
  },
  {
   "cell_type": "code",
   "execution_count": 71,
   "metadata": {},
   "outputs": [],
   "source": [
    "X_tr, X_val, y_tr, y_val = train_test_split(tr_X, train_Y, train_size = 0.8, shuffle=True)"
   ]
  },
  {
   "cell_type": "code",
   "execution_count": null,
   "metadata": {},
   "outputs": [],
   "source": [
    "%%time\n",
    "train_loader = build_loader(X_tr, y_tr, batch_size=256, shuffle=True)\n",
    "valid_loader = build_loader(X_val, y_val, batch_size=256, shuffle=False)"
   ]
  },
  {
   "cell_type": "code",
   "execution_count": 75,
   "metadata": {},
   "outputs": [
    {
     "name": "stdout",
     "output_type": "stream",
     "text": [
      "43\n"
     ]
    }
   ],
   "source": [
    "num_features=X_tr.shape[1]\n",
    "print(num_features)"
   ]
  },
  {
   "cell_type": "code",
   "execution_count": 56,
   "metadata": {},
   "outputs": [
    {
     "name": "stdout",
     "output_type": "stream",
     "text": [
      "Using cuda:0\n"
     ]
    }
   ],
   "source": [
    "device = 'cuda:0'\n",
    "use_gpu = cuda.is_available()\n",
    "if use_gpu:\n",
    "    print(\"enable gpu use\")\n",
    "else:\n",
    "    print(\"enable cpu for debugging\")"
   ]
  },
  {
   "cell_type": "code",
   "execution_count": 67,
   "metadata": {
    "scrolled": true
   },
   "outputs": [],
   "source": [
    "model = MLP(num_features=num_features).to(device)\n",
    "optimizer = optim.Adam(model.parameters(), lr, weight_decay=0.00025)\n",
    "scheduler = ReduceLROnPlateau(optimizer, 'min', patience=5, factor=0.5)\n",
    "criterion = nn.L1Loss()\n",
    "\n",
    "def to_numpy(t):\n",
    "    return t.cpu().detach().numpy()\n",
    "\n",
    "best_mae_score = 9999\n",
    "EPOCH = 100\n",
    "model_fname = '../PUBG/weight/mlp_v1.pt'\n",
    "\n",
    "log_df = pd.DataFrame(columns = ['epoch_idx', 'train_loss', 'valid_loss'])\n",
    "\n",
    "print(\"Started..\")\n",
    "\n",
    "for epoch_idx in range(1, EPOCH+1):\n",
    "    start_time = time.time()\n",
    "    \n",
    "    train_loss = 0\n",
    "    model.train()\n",
    "    optimizer.zero_grad()\n",
    "    \n",
    "    for batch_idx, (data, target) in enumerate(train_loader):\n",
    "        if use_gpu:\n",
    "            data = data.to(device)\n",
    "            target = target.to(device)\n",
    "        output = model(data)\n",
    "        loss = criterion(output, target)\n",
    "        \n",
    "        loss.backward()\n",
    "        \n",
    "        optimizer.step()\n",
    "        optimizer.zero_grad()\n",
    "        \n",
    "        train_loss += loss.item()/len(train_loader)\n",
    "    \n",
    "    model.eval()\n",
    "    valid_loss = 0\n",
    "    \n",
    "    with torch.no_grad():\n",
    "        for batch_idx, (data, target) in enumerata(valid_loader):\n",
    "            if use_gpu:\n",
    "            data = data.to(device)\n",
    "            target = target.to(device)\n",
    "        output = model(data)\n",
    "        loss = criterion(output, target)\n",
    "        \n",
    "        predict_vector = to_numpy(output)\n",
    "        \n",
    "        valid_loss += loss.item() / len(valid_loader)\n",
    "    \n",
    "    elapsed = time.time() - start_time\n",
    "    \n",
    "    # CHECK POINT\n",
    "    if valid_loss < best_mae_score:\n",
    "        best_mae_score = valid_loss\n",
    "        torch.save(model.state_dict(), model_fname)\n",
    "        print(\"================ ༼ つ ◕_◕ ༽つ BEST epoch : {}, MOF : {} \".format(epoch_idx, best_mae_score))\n",
    "        \n",
    "    lr = [_['lr'] for _ in optimizer.param_groups]\n",
    "    \n",
    "    #if args.scheduler == 'plateau':\n",
    "    scheduler.step(valid_loss)\n",
    "    #else:\n",
    "    #    scheduler.step()\n",
    "    print(\"E {}/{} tr_loss: {:.5f} val_loss: {:.5f} lr: {:.6f} elapsed: {:.0f}\".format(\n",
    "        epoch_idx, EPOCH, train_loss, valid_loss lr[0], elapsed))\n",
    "    \n",
    "    log_data = [epoch_idx, train_loss, valid_loss]\n",
    "#     log.append(log_data)\n",
    "    log_df.loc[epoch_idx] = log_data"
   ]
  },
  {
   "cell_type": "code",
   "execution_count": null,
   "metadata": {},
   "outputs": [],
   "source": []
  }
 ],
 "metadata": {
  "kernelspec": {
   "display_name": "Python 3",
   "language": "python",
   "name": "python3"
  },
  "language_info": {
   "codemirror_mode": {
    "name": "ipython",
    "version": 3
   },
   "file_extension": ".py",
   "mimetype": "text/x-python",
   "name": "python",
   "nbconvert_exporter": "python",
   "pygments_lexer": "ipython3",
   "version": "3.7.1"
  }
 },
 "nbformat": 4,
 "nbformat_minor": 4
}
